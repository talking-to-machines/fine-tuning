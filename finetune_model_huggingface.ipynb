{
 "cells": [
  {
   "cell_type": "markdown",
   "metadata": {},
   "source": [
    "# Load Libraries"
   ]
  },
  {
   "cell_type": "code",
   "execution_count": 1,
   "metadata": {},
   "outputs": [],
   "source": [
    "import os\n",
    "from dotenv import load_dotenv\n",
    "load_dotenv()\n",
    "\n",
    "from autotrain.params import LLMTrainingParams\n",
    "from autotrain.project import AutoTrainProject\n",
    "\n",
    "HUGGINGFACE_BASE_MODEL = \"meta-llama/Llama-3.2-3B\"\n",
    "DATA = \"iamraymondlow/sharegpt_censored\"  # iamraymondlow/sharegpt_censored, iamraymondlow/sharegpt_uncensored\n",
    "PROJECT_NAME = \"test-project\"  # llama-3.2-3B-instructiontuned-censored\n",
    "RANDOM_SEED = 42\n",
    "BACKEND = \"spaces-cpu-basic\"\n"
   ]
  },
  {
   "cell_type": "markdown",
   "metadata": {},
   "source": [
    "# Create Hugging Face Finetuning Project"
   ]
  },
  {
   "cell_type": "code",
   "execution_count": null,
   "metadata": {},
   "outputs": [],
   "source": [
    "params = LLMTrainingParams(\n",
    "    model=HUGGINGFACE_BASE_MODEL,\n",
    "    project_name=PROJECT_NAME,\n",
    "    data_path=DATA,\n",
    "    train_split=\"train\",\n",
    "    model_max_length=128000,\n",
    "    padding=\"right\",\n",
    "    trainer=\"sft\",\n",
    "    log=\"tensorboard\",\n",
    "    auto_find_batch_size=True,\n",
    "    mixed_precision=\"none\",\n",
    "    lr=1e-5,\n",
    "    epochs=1,  # 100\n",
    "    batch_size=4,\n",
    "    gradient_accumulation=4,\n",
    "    optimizer=\"adamw_torch\",\n",
    "    scheduler=\"cosine\",\n",
    "    seed=RANDOM_SEED,\n",
    "    chat_template=\"tokenizer\",\n",
    "    quantization=\"none\",\n",
    "    target_modules=\"all-linear\",\n",
    "    merge_adapter=True,\n",
    "    peft=True,\n",
    "    max_prompt_length=64000,\n",
    "    max_completion_length=64000,\n",
    "    text_column=\"text\",\n",
    "    push_to_hub=True,\n",
    "    username=os.environ.get(\"HF_USERNAME\"),\n",
    "    token=os.environ.get(\"HF_TOKEN\"),    \n",
    ")\n",
    "\n",
    "project = AutoTrainProject(params=params, backend=BACKEND, process=True)\n",
    "project.create()"
   ]
  },
  {
   "cell_type": "markdown",
   "metadata": {},
   "source": [
    "# Combine Hugging Face Adapter and Upload to Hugging Face"
   ]
  },
  {
   "cell_type": "code",
   "execution_count": 7,
   "metadata": {},
   "outputs": [
    {
     "data": {
      "application/vnd.jupyter.widget-view+json": {
       "model_id": "da39bf4992fa4bc8ba5b2080cf41ac04",
       "version_major": 2,
       "version_minor": 0
      },
      "text/plain": [
       "config.json:   0%|          | 0.00/892 [00:00<?, ?B/s]"
      ]
     },
     "metadata": {},
     "output_type": "display_data"
    },
    {
     "data": {
      "application/vnd.jupyter.widget-view+json": {
       "model_id": "31de4e0d91a94c87a6fe2aa13811b02a",
       "version_major": 2,
       "version_minor": 0
      },
      "text/plain": [
       "model.safetensors.index.json:   0%|          | 0.00/42.8k [00:00<?, ?B/s]"
      ]
     },
     "metadata": {},
     "output_type": "display_data"
    },
    {
     "data": {
      "application/vnd.jupyter.widget-view+json": {
       "model_id": "21e77e8a11de4258b813087bb8307bb3",
       "version_major": 2,
       "version_minor": 0
      },
      "text/plain": [
       "Downloading shards:   0%|          | 0/24 [00:00<?, ?it/s]"
      ]
     },
     "metadata": {},
     "output_type": "display_data"
    },
    {
     "data": {
      "application/vnd.jupyter.widget-view+json": {
       "model_id": "4ca034acfa1345ebb72f6c2121f542c3",
       "version_major": 2,
       "version_minor": 0
      },
      "text/plain": [
       "model-00001-of-00024.safetensors:   0%|          | 0.00/4.95G [00:00<?, ?B/s]"
      ]
     },
     "metadata": {},
     "output_type": "display_data"
    }
   ],
   "source": [
    "from transformers import AutoModelForSequenceClassification, AutoTokenizer\n",
    "from peft import PeftModel\n",
    "from huggingface_hub import HfApi\n",
    "\n",
    "pretrained_model_name = \"google/gemma-2-27b\"\n",
    "adapter_name = \"iamraymondlow/gemma-2-27b-instructiontuned-uncensored\"\n",
    "repo_name = \"gemma-2-27b-instructiontuned-uncensored_merged\"\n",
    "username = \"iamraymondlow\"\n",
    "\n",
    "# Load the pre-trained base model\n",
    "base_model = AutoModelForSequenceClassification.from_pretrained(pretrained_model_name)\n",
    "tokenizer = AutoTokenizer.from_pretrained(pretrained_model_name)\n",
    "\n",
    "# Load the adapter using PeftModel (replace with the correct adapter path)\n",
    "peft_model = PeftModel.from_pretrained(base_model, adapter_name)\n",
    "\n",
    "# Merge the adapter into the pre-trained model\n",
    "peft_model.merge_and_unload()\n",
    "\n",
    "# Save the merged model locally\n",
    "merged_model_path = \"merged-model\"\n",
    "peft_model.save_pretrained(merged_model_path)\n",
    "tokenizer.save_pretrained(merged_model_path)\n",
    "\n",
    "# Initialize Hugging Face API and create a new repository\n",
    "api = HfApi()\n",
    "api.create_repo(repo_id=f\"{username}/{repo_name}\", exist_ok=True)\n",
    "\n",
    "# Upload the merged model to the Hugging Face Hub\n",
    "peft_model.push_to_hub(repo_name)\n",
    "tokenizer.push_to_hub(repo_name)\n"
   ]
  }
 ],
 "metadata": {
  "kernelspec": {
   "display_name": "llama-finetuning",
   "language": "python",
   "name": "python3"
  },
  "language_info": {
   "codemirror_mode": {
    "name": "ipython",
    "version": 3
   },
   "file_extension": ".py",
   "mimetype": "text/x-python",
   "name": "python",
   "nbconvert_exporter": "python",
   "pygments_lexer": "ipython3",
   "version": "3.10.15"
  }
 },
 "nbformat": 4,
 "nbformat_minor": 2
}
