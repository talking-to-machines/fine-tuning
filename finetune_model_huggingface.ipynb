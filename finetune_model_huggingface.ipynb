{
 "cells": [
  {
   "cell_type": "markdown",
   "metadata": {},
   "source": [
    "# Load Libraries"
   ]
  },
  {
   "cell_type": "code",
   "execution_count": 1,
   "metadata": {},
   "outputs": [],
   "source": [
    "import os\n",
    "from dotenv import load_dotenv\n",
    "load_dotenv()\n",
    "\n",
    "from autotrain.params import LLMTrainingParams\n",
    "from autotrain.project import AutoTrainProject\n",
    "\n",
    "HUGGINGFACE_BASE_MODEL = \"meta-llama/Llama-3.2-3B\"\n",
    "DATA = \"iamraymondlow/sharegpt_censored\"  # iamraymondlow/sharegpt_censored, iamraymondlow/sharegpt_uncensored\n",
    "PROJECT_NAME = \"test-project\"  # llama-3.2-3B-instructiontuned-censored\n",
    "RANDOM_SEED = 42\n",
    "BACKEND = \"spaces-cpu-basic\"\n"
   ]
  },
  {
   "cell_type": "markdown",
   "metadata": {},
   "source": [
    "# Create Hugging Face Finetuning Project"
   ]
  },
  {
   "cell_type": "code",
   "execution_count": null,
   "metadata": {},
   "outputs": [],
   "source": [
    "params = LLMTrainingParams(\n",
    "    model=HUGGINGFACE_BASE_MODEL,\n",
    "    project_name=PROJECT_NAME,\n",
    "    data_path=DATA,\n",
    "    train_split=\"train\",\n",
    "    model_max_length=128000,\n",
    "    padding=\"right\",\n",
    "    trainer=\"sft\",\n",
    "    log=\"tensorboard\",\n",
    "    auto_find_batch_size=True,\n",
    "    mixed_precision=\"none\",\n",
    "    lr=1e-5,\n",
    "    epochs=1,  # 100\n",
    "    batch_size=4,\n",
    "    gradient_accumulation=4,\n",
    "    optimizer=\"adamw_torch\",\n",
    "    scheduler=\"cosine\",\n",
    "    seed=RANDOM_SEED,\n",
    "    chat_template=\"tokenizer\",\n",
    "    quantization=\"none\",\n",
    "    target_modules=\"all-linear\",\n",
    "    merge_adapter=True,\n",
    "    peft=True,\n",
    "    max_prompt_length=64000,\n",
    "    max_completion_length=64000,\n",
    "    text_column=\"text\",\n",
    "    push_to_hub=True,\n",
    "    username=os.environ.get(\"HF_USERNAME\"),\n",
    "    token=os.environ.get(\"HF_TOKEN\"),    \n",
    ")\n",
    "\n",
    "project = AutoTrainProject(params=params, backend=BACKEND, process=True)\n",
    "project.create()"
   ]
  }
 ],
 "metadata": {
  "kernelspec": {
   "display_name": "llama-finetuning",
   "language": "python",
   "name": "python3"
  },
  "language_info": {
   "codemirror_mode": {
    "name": "ipython",
    "version": 3
   },
   "file_extension": ".py",
   "mimetype": "text/x-python",
   "name": "python",
   "nbconvert_exporter": "python",
   "pygments_lexer": "ipython3",
   "version": "3.10.15"
  }
 },
 "nbformat": 4,
 "nbformat_minor": 2
}
