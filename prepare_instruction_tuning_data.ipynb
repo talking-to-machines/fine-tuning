{
 "cells": [
  {
   "cell_type": "markdown",
   "metadata": {},
   "source": [
    "# Helper Functions"
   ]
  },
  {
   "cell_type": "code",
   "execution_count": null,
   "metadata": {},
   "outputs": [],
   "source": [
    "import json\n",
    "import os\n",
    "import pandas as pd\n",
    "\n",
    "RANDOM_STATE = 42\n",
    "TEST_SIZE = 0.2\n",
    "TOTAL_SIZE = 12500\n",
    "\n",
    "def format_dictionary(input_dict):\n",
    "    # Define the key and value transformations\n",
    "    key_transformations = {\n",
    "        \"from\": \"role\",\n",
    "        \"value\": \"content\"\n",
    "    }\n",
    "    value_transformations = {\n",
    "        \"human\": \"user\",\n",
    "        \"gpt\": \"assistant\"\n",
    "    }\n",
    "    \n",
    "    # Create a new dictionary to store the transformed data\n",
    "    transformed_dict = {}\n",
    "\n",
    "    # Function to check for non-ASCII characters\n",
    "    def contains_unicode(s):\n",
    "        try:\n",
    "            s.encode('ascii')\n",
    "        except UnicodeEncodeError:\n",
    "            return True\n",
    "        return False\n",
    "    \n",
    "    # Iterate over the key-value pairs in the input dictionary\n",
    "    for key, value in input_dict.items():\n",
    "        # Apply key transformations\n",
    "        new_key = key_transformations.get(key, key)\n",
    "        \n",
    "        # Apply value transformations if the value is a string\n",
    "        if isinstance(value, str):\n",
    "            if contains_unicode(value):\n",
    "                return None\n",
    "            new_value = value_transformations.get(value, value)\n",
    "        else:\n",
    "            new_value = value\n",
    "        \n",
    "        # Add the transformed key-value pair to the new dictionary\n",
    "        transformed_dict[new_key] = new_value\n",
    "    \n",
    "    return transformed_dict\n",
    "\n",
    "\n",
    "def format_conversation(conversations: list) -> list:\n",
    "    formatted_conversations = []\n",
    "    for idx, conversation_dictionary in enumerate(conversations):\n",
    "        transformed_conversation = format_dictionary(conversation_dictionary)\n",
    "        if (transformed_conversation is None) or (idx == 0 and transformed_conversation[\"role\"] == \"system\"):\n",
    "            return None\n",
    "            \n",
    "        formatted_conversations.append(transformed_conversation)\n",
    "\n",
    "    return formatted_conversations\n",
    "\n",
    "\n",
    "def write_jsonl(data_list, file_path):\n",
    "    with open(file_path, 'w') as file:\n",
    "        for item in data_list:\n",
    "            json.dump(item, file)\n",
    "            file.write('\\n')"
   ]
  },
  {
   "cell_type": "markdown",
   "metadata": {},
   "source": [
    "# Prepare ShareGPT Censored Data"
   ]
  },
  {
   "cell_type": "code",
   "execution_count": null,
   "metadata": {},
   "outputs": [],
   "source": [
    "# Load ShareGPT censored data\n",
    "censored_file_path_1 = \"data/sharegpt_90k_censored_1.json\"\n",
    "censored_file_path_2 = \"data/sharegpt_90k_censored_2.json\"\n",
    "\n",
    "# Open and read the JSON file\n",
    "with open(censored_file_path_1, 'r') as file:\n",
    "    censored_data_1 = json.load(file)\n",
    "\n",
    "with open(censored_file_path_2, 'r') as file:\n",
    "    censored_data_2 = json.load(file)\n",
    "\n",
    "# Merge data chunks into single data list\n",
    "censored_data = censored_data_1 + censored_data_2\n",
    "\n",
    "# Format conversation to \n",
    "formatted_conversation_list = []\n",
    "for conversations in censored_data:\n",
    "    formatted_conversations = format_conversation(conversations[\"conversations\"])\n",
    "    if formatted_conversations is not None and formatted_conversations != []:\n",
    "        formatted_conversation_list.append(formatted_conversations)\n",
    "\n",
    "# Create subfolder to store formatted training and validation data for instruction-tuning\n",
    "if not os.path.exists(f\"data/sharegpt_censored\"):\n",
    "    # Create the folder\n",
    "    os.makedirs(f\"data/sharegpt_censored\")\n",
    "\n",
    "# Write the formatted conversation lists locally (in CSV format)\n",
    "train_conversation_list = [json.dumps(conversation) for conversation in formatted_conversation_list]\n",
    "train_conversation_df = pd.DataFrame(train_conversation_list, columns=[\"text\"])\n",
    "train_conversation_df.to_csv(\"data/sharegpt_censored/train.csv\", index=False)"
   ]
  },
  {
   "cell_type": "markdown",
   "metadata": {},
   "source": [
    "# Prepare ShareGPT Uncensored Data"
   ]
  },
  {
   "cell_type": "code",
   "execution_count": null,
   "metadata": {},
   "outputs": [],
   "source": [
    "# Load ShareGPT censored data\n",
    "uncensored_file_path = \"data/sharegpt_uncensored.json\"\n",
    "\n",
    "# Open and read the JSON file\n",
    "with open(uncensored_file_path, 'r') as file:\n",
    "    uncensored_data = json.load(file)\n",
    "\n",
    "# Format conversation to \n",
    "formatted_conversation_list = []\n",
    "for conversations in uncensored_data:\n",
    "    formatted_conversations = format_conversation(conversations[\"conversations\"])\n",
    "    if formatted_conversations is not None and formatted_conversations != []:\n",
    "        formatted_conversation_list.append(formatted_conversations)\n",
    "\n",
    "# Create subfolder to store formatted training and validation data for instruction-tuning\n",
    "if not os.path.exists(f\"data/sharegpt_uncensored\"):\n",
    "    # Create the folder\n",
    "    os.makedirs(f\"data/sharegpt_uncensored\")\n",
    "\n",
    "# Write the formatted conversation lists to a CSV file\n",
    "train_conversation_list = [json.dumps(conversation) for conversation in formatted_conversation_list]\n",
    "train_conversation_df = pd.DataFrame(train_conversation_list, columns=[\"text\"])\n",
    "train_conversation_df.to_csv(\"data/sharegpt_uncensored/train.csv\", index=False)"
   ]
  }
 ],
 "metadata": {
  "kernelspec": {
   "display_name": "llama-finetuning",
   "language": "python",
   "name": "python3"
  },
  "language_info": {
   "codemirror_mode": {
    "name": "ipython",
    "version": 3
   },
   "file_extension": ".py",
   "mimetype": "text/x-python",
   "name": "python",
   "nbconvert_exporter": "python",
   "pygments_lexer": "ipython3",
   "version": "3.10.15"
  }
 },
 "nbformat": 4,
 "nbformat_minor": 2
}
