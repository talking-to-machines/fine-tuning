{
 "cells": [
  {
   "cell_type": "code",
   "execution_count": null,
   "metadata": {},
   "outputs": [],
   "source": [
    "!pip install -U bitsandbytes transformers peft huggingface_hub sentencepiece protobuf"
   ]
  },
  {
   "cell_type": "code",
   "execution_count": null,
   "metadata": {},
   "outputs": [],
   "source": [
    "import os\n",
    "from dotenv import load_dotenv\n",
    "load_dotenv()\n",
    "from transformers import AutoModelForCausalLM, AutoTokenizer, BitsAndBytesConfig\n",
    "from peft import PeftModel\n",
    "from huggingface_hub import login\n",
    "login(token=os.environ.get(\"HF_TOKEN\"))\n",
    "\n",
    "username = 'iamraymondlow'\n",
    "pretrained_model_name = \"iamraymondlow/llama-31-8b-instructiontuned-uncensored\"\n",
    "adapter_name = \"iamraymondlow/llama-31-8b-generalhealthcare-contexttuning-lora\"\n",
    "repo_name = \"llama-31-8b-generalhealthcare-contexttuning-merged\"\n",
    "\n",
    "# Load the pre-trained base model\n",
    "quantization_config = BitsAndBytesConfig(load_in_8bit=True)\n",
    "base_model = AutoModelForCausalLM.from_pretrained(pretrained_model_name, quantization_config=quantization_config, device_map=\"auto\").eval()\n",
    "tokenizer = AutoTokenizer.from_pretrained(pretrained_model_name)\n",
    "\n",
    "# Load the adapter using PeftModel (replace with the correct adapter path)\n",
    "adapter_model = PeftModel.from_pretrained(base_model, adapter_name)\n",
    "\n",
    "# Merge the adapter into the pre-trained model\n",
    "merged_model = adapter_model.merge_and_unload()\n",
    "\n",
    "# Upload the merged model to the Hugging Face Hub\n",
    "merged_model.push_to_hub(repo_name)\n",
    "tokenizer.push_to_hub(repo_name)"
   ]
  },
  {
   "cell_type": "code",
   "execution_count": null,
   "metadata": {},
   "outputs": [],
   "source": []
  }
 ],
 "metadata": {
  "kernelspec": {
   "display_name": "llama-finetuning",
   "language": "python",
   "name": "python3"
  },
  "language_info": {
   "codemirror_mode": {
    "name": "ipython",
    "version": 3
   },
   "file_extension": ".py",
   "mimetype": "text/x-python",
   "name": "python",
   "nbconvert_exporter": "python",
   "pygments_lexer": "ipython3",
   "version": "3.10.15"
  }
 },
 "nbformat": 4,
 "nbformat_minor": 2
}
